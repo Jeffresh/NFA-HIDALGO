{
 "cells": [
  {
   "cell_type": "markdown",
   "source": [
    "# Non Deterministic finitic automata: HIDALGO\n",
    "\n",
    "A program that counts from an input text all words composed by letters in \"HIDALGO\", \n",
    "with a maximum of two A's, one D, and one L, and any number of the other letters. \n",
    "Implemented using the table method.\n",
    "\n",
    "The text to be used as an input is \"El Quijote\", which is provided."
   ],
   "metadata": {
    "collapsed": false
   }
  },
  {
   "cell_type": "code",
   "execution_count": 7,
   "outputs": [
    {
     "name": "stdout",
     "text": [
      "3\n"
     ],
     "output_type": "stream"
    }
   ],
   "source": [
    "from enum import Enum\n",
    "\n",
    "class Alphabet(Enum):\n",
    "    H=1\n",
    "    I=2\n",
    "    D=3\n",
    "    A=4\n",
    "    L=5\n",
    "    G=6\n",
    "    O=7\n",
    "    \n",
    "    \n",
    "al = [1,3,5]\n",
    "print(al[Alphabet['H'].value])\n"
   ],
   "metadata": {
    "collapsed": false,
    "pycharm": {
     "name": "#%%\n",
     "is_executing": false
    }
   }
  }
 ],
 "metadata": {
  "kernelspec": {
   "display_name": "Python 3",
   "language": "python",
   "name": "python3"
  },
  "language_info": {
   "codemirror_mode": {
    "name": "ipython",
    "version": 2
   },
   "file_extension": ".py",
   "mimetype": "text/x-python",
   "name": "python",
   "nbconvert_exporter": "python",
   "pygments_lexer": "ipython2",
   "version": "2.7.6"
  },
  "pycharm": {
   "stem_cell": {
    "cell_type": "raw",
    "source": [],
    "metadata": {
     "collapsed": false
    }
   }
  }
 },
 "nbformat": 4,
 "nbformat_minor": 0
}